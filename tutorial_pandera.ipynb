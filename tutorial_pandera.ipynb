{
 "cells": [
  {
   "cell_type": "markdown",
   "metadata": {},
   "source": [
    "# AS a Data Scientist / ML engineer, how do I make my pipeline robust to data errors\n",
    "(side benefit: can i annotate my dataframe)"
   ]
  },
  {
   "cell_type": "markdown",
   "metadata": {},
   "source": [
    "```mermaid\n",
    "graph TD;\n",
    "\n",
    "A[Raw Data] -->|Data Corruption|B[Data Cleaning]\n",
    "B -->|Incorrect implementation| C[Data Preprocessing]\n",
    "C --> D[Feature Selection]\n",
    "D --> E[Model Training or prediction]\n",
    "\n",
    "subgraph \"Data Validation Steps\"\n",
    "    B -- Data Validation --> BA[Check for known corruption]\n",
    "    C -- Data Validation --> CA[Validate data function]\n",
    "end\n",
    " \n",
    "                    \n",
    "```"
   ]
  },
  {
   "cell_type": "markdown",
   "metadata": {},
   "source": [
    "## What is Data validation?\n",
    "### __It is the act of falsifying data agaisnt explicit assumptions for some downstream purpose, like analysis, modeling and visualization__"
   ]
  },
  {
   "cell_type": "markdown",
   "metadata": {},
   "source": [
    "## Benefits:\n",
    "- Faster debugging --> focus on what it really matters, that is, modelling and data analysis\n",
    "- Test assumptions about our data\n",
    "- By validating and annotating data, data documentation becomes an artifact  "
   ]
  },
  {
   "attachments": {},
   "cell_type": "markdown",
   "metadata": {},
   "source": [
    "# Pandera \n",
    "data testing and statistical typing library for DS/ML- oriented data containers"
   ]
  },
  {
   "cell_type": "markdown",
   "metadata": {},
   "source": [
    "### Schemas\n",
    "With `pandera`, we can create schemas, which specify types for dataframe-like\n",
    "objects. We can then use these schemas to assert properties about data at runtime\n",
    "and try parsing it into a desired state.\n",
    "\n",
    "Suppose you're working with a transactions dataset of grocery `item`s and their\n",
    "associated `price`s. We can state our assumptions about the data upfront by\n",
    "defining a `Schema`."
   ]
  },
  {
   "cell_type": "code",
   "execution_count": 1,
   "metadata": {},
   "outputs": [],
   "source": [
    "import pandas as pd\n",
    "import pandera as pa\n",
    "from pandera.typing import DataFrame, Series\n",
    "\n",
    "\n",
    "class PriceSchema(pa.DataFrameModel):\n",
    "    item: Series[str] = pa.Field(isin=[\"apple\", \"orange\"], coerce=True, description=\"item bought by the customers in one transaction \")\n",
    "    price: Series[float] = pa.Field(gt=0, coerce=True, description= \"The price paid by the customers\")"
   ]
  },
  {
   "cell_type": "markdown",
   "metadata": {},
   "source": [
    "You can see that the `PriceSchema` class inherits from [`pandera.DataFrameModel`](https://pandera.readthedocs.io/en/stable/reference/generated/pandera.api.pandas.model.DataFrameModel.html#pandera.api.pandas.model.DataFrameModel),\n",
    "and defines two fields: `item` and `price`.\n",
    "\n",
    "`pandera` gives you a flexible and concise way to specify the datatypes associated with\n",
    "each column, but also other properties about it like set equivalence, with `isin=...` and value ranges, with `gt=...`.\n",
    "\n",
    "Setting `coerce=True` will cause pandera to parse the columns into the expected data types, giving you the ability\n",
    "to ensure that data flowing through your pipeline is of the expected type."
   ]
  },
  {
   "cell_type": "markdown",
   "metadata": {},
   "source": [
    "### Runtime and inline checks \n",
    "We can now use the `Schema` class to validate data passing through a function or to perform inline validation, which provide important flexibility"
   ]
  },
  {
   "cell_type": "code",
   "execution_count": 2,
   "metadata": {},
   "outputs": [],
   "source": [
    "valid_data = pd.DataFrame.from_records([\n",
    "    {\"item\": \"apple\", \"price\": 0.5},\n",
    "    {\"item\": \"orange\", \"price\": 0.75}\n",
    "])\n",
    "invalid_data = pd.DataFrame.from_records([\n",
    "    {\"item\": \"applee\", \"price\": 0.5},\n",
    "    {\"item\": \"orange\", \"price\": -1000}\n",
    "])"
   ]
  },
  {
   "cell_type": "markdown",
   "metadata": {},
   "source": [
    "### Runtime validation"
   ]
  },
  {
   "cell_type": "code",
   "execution_count": 3,
   "metadata": {},
   "outputs": [],
   "source": [
    "\"\"\" using the `@pa.check_types` decorator and specifying the `data: DataFrame[Schema]` annotation will ensure that dataframe inputs are validated\n",
    "at runtime before being passed into the `transform_data` function body.\"\"\"\n",
    "@pa.check_types(lazy=True)\n",
    "def transform_data(data: DataFrame[PriceSchema]):\n",
    "    ..."
   ]
  },
  {
   "cell_type": "code",
   "execution_count": 4,
   "metadata": {},
   "outputs": [],
   "source": [
    "transform_data(valid_data) ## passed"
   ]
  },
  {
   "cell_type": "code",
   "execution_count": 5,
   "metadata": {},
   "outputs": [
    {
     "data": {
      "text/html": [
       "<div>\n",
       "<style scoped>\n",
       "    .dataframe tbody tr th:only-of-type {\n",
       "        vertical-align: middle;\n",
       "    }\n",
       "\n",
       "    .dataframe tbody tr th {\n",
       "        vertical-align: top;\n",
       "    }\n",
       "\n",
       "    .dataframe thead th {\n",
       "        text-align: right;\n",
       "    }\n",
       "</style>\n",
       "<table border=\"1\" class=\"dataframe\">\n",
       "  <thead>\n",
       "    <tr style=\"text-align: right;\">\n",
       "      <th></th>\n",
       "      <th>schema_context</th>\n",
       "      <th>column</th>\n",
       "      <th>check</th>\n",
       "      <th>check_number</th>\n",
       "      <th>failure_case</th>\n",
       "      <th>index</th>\n",
       "    </tr>\n",
       "  </thead>\n",
       "  <tbody>\n",
       "    <tr>\n",
       "      <th>0</th>\n",
       "      <td>Column</td>\n",
       "      <td>item</td>\n",
       "      <td>isin(['apple', 'orange'])</td>\n",
       "      <td>0</td>\n",
       "      <td>applee</td>\n",
       "      <td>0</td>\n",
       "    </tr>\n",
       "    <tr>\n",
       "      <th>1</th>\n",
       "      <td>Column</td>\n",
       "      <td>price</td>\n",
       "      <td>greater_than(0)</td>\n",
       "      <td>0</td>\n",
       "      <td>-1000.0</td>\n",
       "      <td>1</td>\n",
       "    </tr>\n",
       "  </tbody>\n",
       "</table>\n",
       "</div>"
      ],
      "text/plain": [
       "  schema_context column                      check  check_number failure_case  \\\n",
       "0         Column   item  isin(['apple', 'orange'])             0       applee   \n",
       "1         Column  price            greater_than(0)             0      -1000.0   \n",
       "\n",
       "   index  \n",
       "0      0  \n",
       "1      1  "
      ]
     },
     "metadata": {},
     "output_type": "display_data"
    }
   ],
   "source": [
    "try:\n",
    "    transform_data(invalid_data)\n",
    "except pa.errors.SchemaErrors as exc:\n",
    "    display(exc.failure_cases) # The `exc.failure_cases` attribute points to a dataframe that contains metadata about the failure cases that occurred when validating the data."
   ]
  },
  {
   "cell_type": "markdown",
   "metadata": {},
   "source": [
    "### inline validation"
   ]
  },
  {
   "cell_type": "code",
   "execution_count": 6,
   "metadata": {},
   "outputs": [
    {
     "data": {
      "text/html": [
       "<div>\n",
       "<style scoped>\n",
       "    .dataframe tbody tr th:only-of-type {\n",
       "        vertical-align: middle;\n",
       "    }\n",
       "\n",
       "    .dataframe tbody tr th {\n",
       "        vertical-align: top;\n",
       "    }\n",
       "\n",
       "    .dataframe thead th {\n",
       "        text-align: right;\n",
       "    }\n",
       "</style>\n",
       "<table border=\"1\" class=\"dataframe\">\n",
       "  <thead>\n",
       "    <tr style=\"text-align: right;\">\n",
       "      <th></th>\n",
       "      <th>item</th>\n",
       "      <th>price</th>\n",
       "    </tr>\n",
       "  </thead>\n",
       "  <tbody>\n",
       "    <tr>\n",
       "      <th>0</th>\n",
       "      <td>apple</td>\n",
       "      <td>0.50</td>\n",
       "    </tr>\n",
       "    <tr>\n",
       "      <th>1</th>\n",
       "      <td>orange</td>\n",
       "      <td>0.75</td>\n",
       "    </tr>\n",
       "  </tbody>\n",
       "</table>\n",
       "</div>"
      ],
      "text/plain": [
       "     item  price\n",
       "0   apple   0.50\n",
       "1  orange   0.75"
      ]
     },
     "execution_count": 6,
     "metadata": {},
     "output_type": "execute_result"
    }
   ],
   "source": [
    "PriceSchema.validate(valid_data)"
   ]
  },
  {
   "cell_type": "markdown",
   "metadata": {},
   "source": [
    "## Schemas as Data Quality Checkpoints\n",
    "\n",
    "With `pandera`, you can use inheritance to indicate changes in\n",
    "the contents of a dataframe that some function is has to implement."
   ]
  },
  {
   "cell_type": "code",
   "execution_count": 7,
   "metadata": {},
   "outputs": [],
   "source": [
    "class TransformedSchema(PriceSchema):\n",
    "    expiry: Series[pd.Timestamp] = pa.Field(coerce=True)"
   ]
  },
  {
   "cell_type": "code",
   "execution_count": 8,
   "metadata": {},
   "outputs": [
    {
     "data": {
      "text/html": [
       "<div>\n",
       "<style scoped>\n",
       "    .dataframe tbody tr th:only-of-type {\n",
       "        vertical-align: middle;\n",
       "    }\n",
       "\n",
       "    .dataframe tbody tr th {\n",
       "        vertical-align: top;\n",
       "    }\n",
       "\n",
       "    .dataframe thead th {\n",
       "        text-align: right;\n",
       "    }\n",
       "</style>\n",
       "<table border=\"1\" class=\"dataframe\">\n",
       "  <thead>\n",
       "    <tr style=\"text-align: right;\">\n",
       "      <th></th>\n",
       "      <th>item</th>\n",
       "      <th>price</th>\n",
       "      <th>expiry</th>\n",
       "    </tr>\n",
       "  </thead>\n",
       "  <tbody>\n",
       "    <tr>\n",
       "      <th>0</th>\n",
       "      <td>apple</td>\n",
       "      <td>0.50</td>\n",
       "      <td>2023-07-20 15:20:04.253904</td>\n",
       "    </tr>\n",
       "    <tr>\n",
       "      <th>1</th>\n",
       "      <td>orange</td>\n",
       "      <td>0.75</td>\n",
       "      <td>2023-07-20 15:20:04.253904</td>\n",
       "    </tr>\n",
       "  </tbody>\n",
       "</table>\n",
       "</div>"
      ],
      "text/plain": [
       "     item  price                     expiry\n",
       "0   apple   0.50 2023-07-20 15:20:04.253904\n",
       "1  orange   0.75 2023-07-20 15:20:04.253904"
      ]
     },
     "execution_count": 8,
     "metadata": {},
     "output_type": "execute_result"
    }
   ],
   "source": [
    "from datetime import datetime\n",
    "from typing import List\n",
    "\n",
    "\n",
    "@pa.check_types(lazy=True)\n",
    "def transform_data(\n",
    "    data: DataFrame[PriceSchema], ## old schema\n",
    "    expiry: List[datetime],\n",
    ") -> DataFrame[TransformedSchema]: ## the new schema \n",
    "    return data.assign(expiry=expiry)\n",
    "\n",
    "\n",
    "transform_data(valid_data, [datetime.now()] * valid_data.shape[0])"
   ]
  },
  {
   "cell_type": "markdown",
   "metadata": {},
   "source": [
    "Now every time we call the `transform_data` function, not only is the\n",
    "`data` input argument validated, but the output dataframe is validated\n",
    "against `TransformedSchema`.\n",
    "\n",
    "This means that you can catch bugs in your data transformation code\n",
    "more easily:"
   ]
  },
  {
   "cell_type": "code",
   "execution_count": 9,
   "metadata": {},
   "outputs": [
    {
     "data": {
      "text/html": [
       "<div>\n",
       "<style scoped>\n",
       "    .dataframe tbody tr th:only-of-type {\n",
       "        vertical-align: middle;\n",
       "    }\n",
       "\n",
       "    .dataframe tbody tr th {\n",
       "        vertical-align: top;\n",
       "    }\n",
       "\n",
       "    .dataframe thead th {\n",
       "        text-align: right;\n",
       "    }\n",
       "</style>\n",
       "<table border=\"1\" class=\"dataframe\">\n",
       "  <thead>\n",
       "    <tr style=\"text-align: right;\">\n",
       "      <th></th>\n",
       "      <th>schema_context</th>\n",
       "      <th>column</th>\n",
       "      <th>check</th>\n",
       "      <th>check_number</th>\n",
       "      <th>failure_case</th>\n",
       "      <th>index</th>\n",
       "    </tr>\n",
       "  </thead>\n",
       "  <tbody>\n",
       "    <tr>\n",
       "      <th>0</th>\n",
       "      <td>DataFrameSchema</td>\n",
       "      <td>None</td>\n",
       "      <td>column_in_dataframe</td>\n",
       "      <td>None</td>\n",
       "      <td>expiry</td>\n",
       "      <td>None</td>\n",
       "    </tr>\n",
       "  </tbody>\n",
       "</table>\n",
       "</div>"
      ],
      "text/plain": [
       "    schema_context column                check check_number failure_case index\n",
       "0  DataFrameSchema   None  column_in_dataframe         None       expiry  None"
      ]
     },
     "metadata": {},
     "output_type": "display_data"
    }
   ],
   "source": [
    "@pa.check_types(lazy=True)\n",
    "def transform_data(\n",
    "    data: DataFrame[PriceSchema],\n",
    "    expiry: List[datetime],\n",
    ") -> DataFrame[TransformedSchema]:\n",
    "    return data.assign(expiryy=expiry)  # typo bug: 🐛\n",
    "\n",
    "\n",
    "try:\n",
    "    transform_data(valid_data, [datetime.now()] * valid_data.shape[0])\n",
    "except pa.errors.SchemaErrors as exc:\n",
    "    display(exc.failure_cases)"
   ]
  },
  {
   "cell_type": "markdown",
   "metadata": {},
   "source": [
    "## Built-in and Customs checks\n",
    "Checks are one of the fundamental constructs of pandera. \n",
    "They allow you to specify properties about dataframes, columns, indexes, and series objects, which are applied after data type validation/coercion and the core pandera checks are applied to the data to be validated."
   ]
  },
  {
   "cell_type": "code",
   "execution_count": 10,
   "metadata": {},
   "outputs": [],
   "source": [
    "## rich built-in checks for common validation tasks\n",
    "import pandera as pa\n",
    "from pandera import Column, Check, DataFrameSchema\n",
    "\n",
    "schema = DataFrameSchema({\n",
    "    \"small_values\": Column(float, Check.less_than(100)),\n",
    "    \"one_to_three\": Column(int, Check.isin([1, 2, 3])),\n",
    "    \"phone_number\": Column(str, Check.str_matches(r'^[a-z0-9-]+$')),\n",
    "})"
   ]
  },
  {
   "cell_type": "code",
   "execution_count": 11,
   "metadata": {},
   "outputs": [
    {
     "data": {
      "text/html": [
       "<div>\n",
       "<style scoped>\n",
       "    .dataframe tbody tr th:only-of-type {\n",
       "        vertical-align: middle;\n",
       "    }\n",
       "\n",
       "    .dataframe tbody tr th {\n",
       "        vertical-align: top;\n",
       "    }\n",
       "\n",
       "    .dataframe thead th {\n",
       "        text-align: right;\n",
       "    }\n",
       "</style>\n",
       "<table border=\"1\" class=\"dataframe\">\n",
       "  <thead>\n",
       "    <tr style=\"text-align: right;\">\n",
       "      <th></th>\n",
       "      <th>index</th>\n",
       "      <th>failure_case</th>\n",
       "    </tr>\n",
       "  </thead>\n",
       "  <tbody>\n",
       "    <tr>\n",
       "      <th>0</th>\n",
       "      <td>None</td>\n",
       "      <td>False</td>\n",
       "    </tr>\n",
       "  </tbody>\n",
       "</table>\n",
       "</div>"
      ],
      "text/plain": [
       "  index  failure_case\n",
       "0  None         False"
      ]
     },
     "metadata": {},
     "output_type": "display_data"
    }
   ],
   "source": [
    "## Custom checks \n",
    "from typing import Dict\n",
    "from pandas import Series\n",
    "from pandera.typing import Series\n",
    "\n",
    "class GroupbyCheckSchema(pa.DataFrameModel):\n",
    "\n",
    "    value: Series[int] = pa.Field(gt=0, coerce=True)\n",
    "    group: Series[str] = pa.Field(isin=[\"A\", \"B\"])\n",
    "\n",
    "    @pa.check(\"value\", groupby=\"group\",  name=\"check_means\")\n",
    "    def check_groupby(cls, grouped_value: Dict[str, Series[int]]) -> bool:\n",
    "        return grouped_value[\"A\"].mean() < grouped_value[\"B\"].mean()\n",
    "\n",
    "bad_df = pd.DataFrame({\n",
    "    \"value\": [100, 110, 120, 10, 11, 10],\n",
    "    \"group\": list(\"AAABBB\"),\n",
    "})\n",
    "df = pd.DataFrame({\n",
    "    \"value\": [100, 110, 120, 10, 11, 10],\n",
    "    \"group\": list(\"BBBAAA\"),\n",
    "})\n",
    "try:\n",
    "    GroupbyCheckSchema.validate(bad_df)\n",
    "except pa.errors.SchemaError as exc:\n",
    "    display(exc.failure_cases)\n",
    "    "
   ]
  },
  {
   "cell_type": "markdown",
   "metadata": {},
   "source": [
    "## Integration with hypothesis (fake data for unit testing)"
   ]
  },
  {
   "cell_type": "markdown",
   "metadata": {},
   "source": [
    "Think of a normal unit test as being something like the following:\n",
    "\n",
    "- Set up some data.\n",
    "\n",
    "- Perform some operations on the data.\n",
    "\n",
    "- Assert something about the result.\n",
    "\n",
    "Hypothesis lets you write tests which instead look like this:\n",
    "\n",
    "- For all data matching some specification.\n",
    "\n",
    "- Perform some operations on the data.\n",
    "\n",
    "- Assert something about the result."
   ]
  },
  {
   "cell_type": "code",
   "execution_count": 12,
   "metadata": {},
   "outputs": [
    {
     "name": "stdout",
     "output_type": "stream",
     "text": [
      "   column1        column2 column3\n",
      "0       10 -8.107493e+264     foo\n",
      "1       10 -8.107493e+264     foo\n",
      "2       10  -6.993283e+16     foo\n"
     ]
    }
   ],
   "source": [
    "import pandera as pa\n",
    "\n",
    "schema = pa.DataFrameSchema(\n",
    "    {\n",
    "        \"column1\": pa.Column(int, pa.Check.eq(10)),\n",
    "        \"column2\": pa.Column(float, pa.Check.le(0.25)),\n",
    "        \"column3\": pa.Column(str, pa.Check.eq(\"foo\")),\n",
    "    }\n",
    ")\n",
    "print(schema.example(size=3))"
   ]
  },
  {
   "cell_type": "code",
   "execution_count": 13,
   "metadata": {},
   "outputs": [],
   "source": [
    "import hypothesis\n",
    "\n",
    "out_schema = schema.add_columns({\"column4\": pa.Column(float)})\n",
    "\n",
    "@pa.check_output(out_schema)\n",
    "def processing_fn(df):\n",
    "    return df.assign(column4=df.column1 * df.column2)\n",
    "\n",
    "@hypothesis.given(schema.strategy(size=5))\n",
    "def test_processing_fn(dataframe):\n",
    "    processing_fn(dataframe) "
   ]
  },
  {
   "cell_type": "code",
   "execution_count": null,
   "metadata": {},
   "outputs": [],
   "source": []
  },
  {
   "cell_type": "code",
   "execution_count": null,
   "metadata": {},
   "outputs": [],
   "source": []
  }
 ],
 "metadata": {
  "kernelspec": {
   "display_name": "techclub",
   "language": "python",
   "name": "python3"
  },
  "language_info": {
   "codemirror_mode": {
    "name": "ipython",
    "version": 3
   },
   "file_extension": ".py",
   "mimetype": "text/x-python",
   "name": "python",
   "nbconvert_exporter": "python",
   "pygments_lexer": "ipython3",
   "version": "3.8.17"
  },
  "orig_nbformat": 4
 },
 "nbformat": 4,
 "nbformat_minor": 2
}
